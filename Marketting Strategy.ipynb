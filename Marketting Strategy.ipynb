{
 "cells": [
  {
   "cell_type": "code",
   "execution_count": 1,
   "id": "44849671",
   "metadata": {
    "_cell_guid": "b1076dfc-b9ad-4769-8c92-a6c4dae69d19",
    "_uuid": "8f2839f25d086af736a60e9eeb907d3b93b6e0e5",
    "execution": {
     "iopub.execute_input": "2022-12-01T09:08:40.531031Z",
     "iopub.status.busy": "2022-12-01T09:08:40.530455Z",
     "iopub.status.idle": "2022-12-01T09:08:40.548986Z",
     "shell.execute_reply": "2022-12-01T09:08:40.547527Z"
    },
    "papermill": {
     "duration": 0.033152,
     "end_time": "2022-12-01T09:08:40.553578",
     "exception": false,
     "start_time": "2022-12-01T09:08:40.520426",
     "status": "completed"
    },
    "tags": []
   },
   "outputs": [
    {
     "name": "stdout",
     "output_type": "stream",
     "text": [
      "/kaggle/input/marketing-strategy-personalised-offer/sample.csv\n",
      "/kaggle/input/marketing-strategy-personalised-offer/train_data.csv\n",
      "/kaggle/input/marketing-strategy-personalised-offer/test_data.csv\n"
     ]
    }
   ],
   "source": [
    "# This Python 3 environment comes with many helpful analytics libraries installed\n",
    "# It is defined by the kaggle/python Docker image: https://github.com/kaggle/docker-python\n",
    "# For example, here's several helpful packages to load\n",
    "\n",
    "import numpy as np # linear algebra\n",
    "import pandas as pd # data processing, CSV file I/O (e.g. pd.read_csv)\n",
    "\n",
    "# Input data files are available in the read-only \"../input/\" directory\n",
    "# For example, running this (by clicking run or pressing Shift+Enter) will list all files under the input directory\n",
    "\n",
    "import os\n",
    "for dirname, _, filenames in os.walk('/kaggle/input'):\n",
    "    for filename in filenames:\n",
    "        print(os.path.join(dirname, filename))\n",
    "\n",
    "# You can write up to 20GB to the current directory (/kaggle/working/) that gets preserved as output when you create a version using \"Save & Run All\" \n",
    "# You can also write temporary files to /kaggle/temp/, but they won't be saved outside of the current session"
   ]
  },
  {
   "cell_type": "code",
   "execution_count": 2,
   "id": "e1aa015e",
   "metadata": {
    "execution": {
     "iopub.execute_input": "2022-12-01T09:08:40.570111Z",
     "iopub.status.busy": "2022-12-01T09:08:40.569602Z",
     "iopub.status.idle": "2022-12-01T09:08:42.047084Z",
     "shell.execute_reply": "2022-12-01T09:08:42.045416Z"
    },
    "papermill": {
     "duration": 1.489822,
     "end_time": "2022-12-01T09:08:42.050500",
     "exception": false,
     "start_time": "2022-12-01T09:08:40.560678",
     "status": "completed"
    },
    "tags": []
   },
   "outputs": [],
   "source": [
    "### Importing the required libraries\n",
    "import pandas as pd\n",
    "import numpy as np\n",
    "from sklearn.linear_model import LogisticRegressionCV\n",
    "from sklearn.ensemble import RandomForestClassifier\n",
    "from xgboost import XGBClassifier\n",
    "from sklearn.model_selection import train_test_split\n",
    "from sklearn.metrics import f1_score , make_scorer\n",
    "from sklearn.model_selection import GridSearchCV\n",
    "from sklearn.svm import SVC\n",
    "from sklearn.neighbors import KNeighborsClassifier\n"
   ]
  },
  {
   "cell_type": "code",
   "execution_count": 3,
   "id": "cf1d6a03",
   "metadata": {
    "execution": {
     "iopub.execute_input": "2022-12-01T09:08:42.070768Z",
     "iopub.status.busy": "2022-12-01T09:08:42.070200Z",
     "iopub.status.idle": "2022-12-01T09:08:42.281026Z",
     "shell.execute_reply": "2022-12-01T09:08:42.279695Z"
    },
    "papermill": {
     "duration": 0.222913,
     "end_time": "2022-12-01T09:08:42.284135",
     "exception": false,
     "start_time": "2022-12-01T09:08:42.061222",
     "status": "completed"
    },
    "tags": []
   },
   "outputs": [],
   "source": [
    "############################# Reading the training and test data ###########################################\n",
    "train=pd.read_csv('/kaggle/input/marketing-strategy-personalised-offer/train_data.csv')\n",
    "test =pd.read_csv('/kaggle/input/marketing-strategy-personalised-offer/test_data.csv')"
   ]
  },
  {
   "cell_type": "code",
   "execution_count": 4,
   "id": "3f2e0281",
   "metadata": {
    "execution": {
     "iopub.execute_input": "2022-12-01T09:08:42.300789Z",
     "iopub.status.busy": "2022-12-01T09:08:42.299744Z",
     "iopub.status.idle": "2022-12-01T09:08:42.350573Z",
     "shell.execute_reply": "2022-12-01T09:08:42.348968Z"
    },
    "papermill": {
     "duration": 0.06339,
     "end_time": "2022-12-01T09:08:42.354393",
     "exception": false,
     "start_time": "2022-12-01T09:08:42.291003",
     "status": "completed"
    },
    "tags": []
   },
   "outputs": [
    {
     "name": "stdout",
     "output_type": "stream",
     "text": [
      "offer expiration\n",
      "2days      6791\n",
      "10hours    5588\n",
      "Name: offer expiration, dtype: int64\n",
      "income_range\n",
      "₹25000 - ₹37499     2010\n",
      "₹37500 - ₹49999     1752\n",
      "₹12500 - ₹24999     1743\n",
      "₹100000 or More     1706\n",
      "₹50000 - ₹62499     1617\n",
      "Less than ₹12500    1012\n",
      "₹87500 - ₹99999      880\n",
      "₹75000 - ₹87499      830\n",
      "₹62500 - ₹74999      829\n",
      "Name: income_range, dtype: int64\n",
      "no_visited_Cold drinks\n",
      "less1    3304\n",
      "1~3      3147\n",
      "never    2903\n",
      "4~8      1776\n",
      "gt8      1051\n",
      "Name: no_visited_Cold drinks, dtype: int64\n",
      "Restaur_spend_less_than20\n",
      "1~3      5248\n",
      "4~8      3485\n",
      "less1    2052\n",
      "gt8      1265\n",
      "never     208\n",
      "Name: Restaur_spend_less_than20, dtype: int64\n",
      "Marital Status\n",
      "Married partner      4987\n",
      "Single               4665\n",
      "Unmarried partner    2104\n",
      "Divorced              512\n",
      "Widowed               111\n",
      "Name: Marital Status, dtype: int64\n",
      "restaurant type\n",
      "Cold drinks             3471\n",
      "2 star restaurant       2642\n",
      "Take-away restaurant    2341\n",
      "4 star restaurant       2199\n",
      "Restaurant with pub     1726\n",
      "Name: restaurant type, dtype: int64\n",
      "age\n",
      "21         2602\n",
      "26         2543\n",
      "31         1929\n",
      "50plus     1756\n",
      "36         1259\n",
      "41         1060\n",
      "46          716\n",
      "below21     514\n",
      "Name: age, dtype: int64\n",
      "no_visited_bars\n",
      "never    5064\n",
      "less1    3397\n",
      "1~3      2430\n",
      "4~8      1047\n",
      "gt8       348\n",
      "Name: no_visited_bars, dtype: int64\n",
      "gender\n",
      "Female    6335\n",
      "Male      6044\n",
      "Name: gender, dtype: int64\n",
      "car\n",
      "Car that is too old to install Onstar :D    24\n",
      "Scooter and motorcycle                      23\n",
      "do not drive                                22\n",
      "Mazda5                                      21\n",
      "crossover                                   21\n",
      "Name: car, dtype: int64\n",
      "Customer type\n",
      "Individual         5931\n",
      "With Colleagues    3182\n",
      "With Family        1647\n",
      "With Kids          1619\n",
      "Name: Customer type, dtype: int64\n",
      "Qualification\n",
      "Some college - no degree                  4264\n",
      "Bachelors degree                          4261\n",
      "Graduate degree (Masters or Doctorate)    1802\n",
      "Associates degree                         1133\n",
      "High School Graduate                       839\n",
      "Some High School                            80\n",
      "Name: Qualification, dtype: int64\n",
      "no_Take-aways\n",
      "1~3      4650\n",
      "4~8      4115\n",
      "less1    1762\n",
      "gt8      1568\n",
      "never     140\n",
      "Name: no_Take-aways, dtype: int64\n",
      "Job/Job Industry\n",
      "Unemployed                                   1838\n",
      "Student                                      1520\n",
      "Computer & Mathematical                      1361\n",
      "Sales & Related                              1075\n",
      "Education&Training&Library                    944\n",
      "Management                                    842\n",
      "Arts Design Entertainment Sports & Media      646\n",
      "Office & Administrative Support               631\n",
      "Business & Financial                          486\n",
      "Retired                                       462\n",
      "Food Preparation & Serving Related            281\n",
      "Healthcare Practitioners & Technical          246\n",
      "Transportation & Material Moving              235\n",
      "Community & Social Services                   230\n",
      "Healthcare Support                            223\n",
      "Legal                                         216\n",
      "Protective Service                            183\n",
      "Life Physical Social Science                  175\n",
      "Personal Care & Service                       165\n",
      "Architecture & Engineering                    153\n",
      "Construction & Extraction                     150\n",
      "Installation Maintenance & Repair             140\n",
      "Production Occupations                        104\n",
      "Building & Grounds Cleaning & Maintenance      41\n",
      "Farming Fishing & Forestry                     32\n",
      "Name: Job/Job Industry, dtype: int64\n",
      "Restaur_spend_greater_than20\n",
      "less1    5992\n",
      "1~3      3216\n",
      "never    2033\n",
      "4~8       711\n",
      "gt8       267\n",
      "Name: Restaur_spend_greater_than20, dtype: int64\n",
      "Climate\n",
      "Summer    8065\n",
      "Spring    2166\n",
      "Winter    2148\n",
      "Name: Climate, dtype: int64\n",
      "drop location\n",
      "Location A    5590\n",
      "Location B    3424\n",
      "Location C    3365\n",
      "Name: drop location, dtype: int64\n",
      "Offer Accepted\n",
      "Yes    6994\n",
      "No     5385\n",
      "Name: Offer Accepted, dtype: int64\n"
     ]
    }
   ],
   "source": [
    "################################### Testing the value counts for checking the imbalance and categories ##########3\n",
    "for i in train.columns:\n",
    "    if train[i].dtypes == object:\n",
    "        print(i)\n",
    "        print(train[i].value_counts())\n",
    "        "
   ]
  },
  {
   "cell_type": "code",
   "execution_count": 5,
   "id": "5c262559",
   "metadata": {
    "execution": {
     "iopub.execute_input": "2022-12-01T09:08:42.369919Z",
     "iopub.status.busy": "2022-12-01T09:08:42.368959Z",
     "iopub.status.idle": "2022-12-01T09:08:42.394028Z",
     "shell.execute_reply": "2022-12-01T09:08:42.392574Z"
    },
    "papermill": {
     "duration": 0.036236,
     "end_time": "2022-12-01T09:08:42.397508",
     "exception": false,
     "start_time": "2022-12-01T09:08:42.361272",
     "status": "completed"
    },
    "tags": []
   },
   "outputs": [
    {
     "data": {
      "text/plain": [
       "offer expiration                            0\n",
       "income_range                                0\n",
       "no_visited_Cold drinks                    198\n",
       "travelled_more_than_15mins_for_offer        0\n",
       "Restaur_spend_less_than20                 121\n",
       "Marital Status                              0\n",
       "restaurant type                             0\n",
       "age                                         0\n",
       "Prefer western over chinese                 0\n",
       "travelled_more_than_25mins_for_offer        0\n",
       "travelled_more_than_5mins_for_offer         0\n",
       "no_visited_bars                            93\n",
       "gender                                      0\n",
       "car                                     12268\n",
       "restuarant_same_direction_house             0\n",
       "Cooks regularly                             0\n",
       "Customer type                               0\n",
       "Qualification                               0\n",
       "is foodie                                   0\n",
       "no_Take-aways                             144\n",
       "Job/Job Industry                            0\n",
       "restuarant_opposite_direction_house         0\n",
       "has Children                                0\n",
       "visit restaurant with rating (avg)          0\n",
       "temperature                                 0\n",
       "Restaur_spend_greater_than20              160\n",
       "Travel Time                                 0\n",
       "Climate                                     0\n",
       "drop location                               0\n",
       "Prefer home food                            0\n",
       "Offer Accepted                              0\n",
       "dtype: int64"
      ]
     },
     "execution_count": 5,
     "metadata": {},
     "output_type": "execute_result"
    }
   ],
   "source": [
    "####################### Checking for null values ###########################\n",
    "train.isnull().sum()"
   ]
  },
  {
   "cell_type": "code",
   "execution_count": 6,
   "id": "1355a513",
   "metadata": {
    "execution": {
     "iopub.execute_input": "2022-12-01T09:08:42.413017Z",
     "iopub.status.busy": "2022-12-01T09:08:42.412520Z",
     "iopub.status.idle": "2022-12-01T09:08:42.421090Z",
     "shell.execute_reply": "2022-12-01T09:08:42.419689Z"
    },
    "papermill": {
     "duration": 0.01931,
     "end_time": "2022-12-01T09:08:42.423805",
     "exception": false,
     "start_time": "2022-12-01T09:08:42.404495",
     "status": "completed"
    },
    "tags": []
   },
   "outputs": [],
   "source": [
    "######################################## Treating the null values with filling techniques ###########################\n",
    "def nan_values(train):\n",
    "    train['no_visited_Cold drinks'] = train['no_visited_Cold drinks'].fillna(train['no_visited_Cold drinks'].mode()[0])\n",
    "    train['no_Take-aways'] = train['no_Take-aways'].fillna(train['no_Take-aways'].mode()[0])\n",
    "    train['Restaur_spend_greater_than20'] = train['Restaur_spend_greater_than20'].fillna(train['Restaur_spend_greater_than20'].mode()[0])\n",
    "    train['no_visited_bars'] = train['no_visited_bars'].fillna(train['no_visited_bars'].mode()[0])\n",
    "    train['Restaur_spend_less_than20'] = train['Restaur_spend_less_than20'].fillna(train['Restaur_spend_less_than20'].mode()[0])\n",
    "    return train"
   ]
  },
  {
   "cell_type": "code",
   "execution_count": 7,
   "id": "4fe09b02",
   "metadata": {
    "execution": {
     "iopub.execute_input": "2022-12-01T09:08:42.441006Z",
     "iopub.status.busy": "2022-12-01T09:08:42.440106Z",
     "iopub.status.idle": "2022-12-01T09:08:42.450528Z",
     "shell.execute_reply": "2022-12-01T09:08:42.449108Z"
    },
    "papermill": {
     "duration": 0.023557,
     "end_time": "2022-12-01T09:08:42.453785",
     "exception": false,
     "start_time": "2022-12-01T09:08:42.430228",
     "status": "completed"
    },
    "tags": []
   },
   "outputs": [],
   "source": [
    "###########################Converting the income range variable to a numerical variable #####################\n",
    "def income_range(df):\n",
    "    if df['income_range'] == '₹100000 or More':\n",
    "        return 100000\n",
    "    elif df['income_range'] == '₹87500 - ₹99999':\n",
    "        return (87500+99999)/2\n",
    "    elif df['income_range'] == '₹37500 - ₹49999':\n",
    "        return (37500+49999)/2\n",
    "    elif df['income_range'] == 'Less than ₹12500':\n",
    "        return (0+12500)/2\n",
    "    elif df['income_range'] == '₹50000 - ₹62499':\n",
    "        return (50000+62499)/2\n",
    "    elif df['income_range'] == '₹12500 - ₹24999':\n",
    "        return (12500+24999)/2\n",
    "    elif df['income_range'] == '₹75000 - ₹87499':\n",
    "        return (75000+87499)/2\n",
    "    elif df['income_range'] == '₹25000 - ₹37499':\n",
    "        return (25000+37499)/2\n",
    "    else:\n",
    "        return (62500+74999)/2 "
   ]
  },
  {
   "cell_type": "code",
   "execution_count": 8,
   "id": "feeb1a3b",
   "metadata": {
    "execution": {
     "iopub.execute_input": "2022-12-01T09:08:42.470343Z",
     "iopub.status.busy": "2022-12-01T09:08:42.469444Z",
     "iopub.status.idle": "2022-12-01T09:08:42.486471Z",
     "shell.execute_reply": "2022-12-01T09:08:42.485183Z"
    },
    "papermill": {
     "duration": 0.028886,
     "end_time": "2022-12-01T09:08:42.489593",
     "exception": false,
     "start_time": "2022-12-01T09:08:42.460707",
     "status": "completed"
    },
    "tags": []
   },
   "outputs": [],
   "source": [
    "###################################### Creating a single function for pre-processing of both the train and test data.\n",
    "def preprocessing (train,a):\n",
    "    train=train.drop(['car'],axis=1)\n",
    "    train = nan_values(train)\n",
    "    train['offer expiration'] = np.where(train['offer expiration'] == '2days' ,48,10)\n",
    "    train['gender'] = np.where(train['gender'] == 'Female' , 1, 0)\n",
    "    if a == 'train':\n",
    "        train['Offer Accepted'] = np.where(train['Offer Accepted'] == 'Yes',1,0)\n",
    "    train['income_range']= train.apply(income_range,axis=1)\n",
    "    train['age'] = np.where(train['age'] == '50plus' , 55 , np.where(train['age'] == 'below21' , 10 , train['age']))\n",
    "    train['age'] = train['age'].astype(int)\n",
    "    ############################### Created a scale maker as the data is ordinal #################################\n",
    "    scale_maker={'never':0,'less1':1,'1~3':2,'4~8':3,'gt8':4}\n",
    "    train['Restaur_spend_greater_than20']= train['Restaur_spend_greater_than20'].replace(scale_maker)\n",
    "    train['no_Take-aways']= train['no_Take-aways'].replace(scale_maker)\n",
    "    train['no_visited_bars']= train['no_visited_bars'].replace(scale_maker)\n",
    "    train['Restaur_spend_less_than20']= train['Restaur_spend_less_than20'].replace(scale_maker)\n",
    "    train['no_visited_Cold drinks']= train['no_visited_Cold drinks'].replace(scale_maker)\n",
    "    ########################## One hot encoding the data for categorical variables ################################\n",
    "    train=pd.concat([train,pd.get_dummies(train['drop location'],drop_first=True)],axis=1).drop(['drop location'],axis=1)\n",
    "    train=pd.concat([train,pd.get_dummies(train['Customer type'],drop_first=True)],axis=1).drop(['Customer type'],axis=1)\n",
    "    train=pd.concat([train,pd.get_dummies(train['Marital Status'],drop_first=True)],axis=1).drop(['Marital Status'],axis=1)\n",
    "    train=pd.concat([train,pd.get_dummies(train['restaurant type'],drop_first=True)],axis=1).drop(['restaurant type'],axis=1)\n",
    "    train=pd.concat([train,pd.get_dummies(train['Climate'],drop_first=True)],axis=1).drop(['Climate'],axis=1)\n",
    "    scale={'Some High School':1,'High School Graduate':2,'Some college - no degree':3,'Bachelors degree':4,'Associates degree':5,'Graduate degree (Masters or Doctorate)':6}\n",
    "    train['Qualification']= train['Qualification'].replace(scale)\n",
    "    train=train.drop(['Job/Job Industry'],axis=1)\n",
    "    for i in train.columns:\n",
    "        train[i] = train[i]/max(train[i])\n",
    "    return train"
   ]
  },
  {
   "cell_type": "code",
   "execution_count": 9,
   "id": "69a456b5",
   "metadata": {
    "execution": {
     "iopub.execute_input": "2022-12-01T09:08:42.505519Z",
     "iopub.status.busy": "2022-12-01T09:08:42.504666Z",
     "iopub.status.idle": "2022-12-01T09:08:43.133620Z",
     "shell.execute_reply": "2022-12-01T09:08:43.132392Z"
    },
    "papermill": {
     "duration": 0.640619,
     "end_time": "2022-12-01T09:08:43.136903",
     "exception": false,
     "start_time": "2022-12-01T09:08:42.496284",
     "status": "completed"
    },
    "tags": []
   },
   "outputs": [],
   "source": [
    "##################################### Preprocessing the train data and creating train and test datasets #############\n",
    "train = preprocessing(train,'train')\n",
    "X=train.drop(['Offer Accepted'],axis=1)\n",
    "y=train[['Offer Accepted']]\n",
    "x_train,x_test,y_train,y_test = train_test_split(X,y,test_size = 0.3 ,random_state= 32)"
   ]
  },
  {
   "cell_type": "code",
   "execution_count": 10,
   "id": "772e01aa",
   "metadata": {
    "execution": {
     "iopub.execute_input": "2022-12-01T09:08:43.152775Z",
     "iopub.status.busy": "2022-12-01T09:08:43.151809Z",
     "iopub.status.idle": "2022-12-01T09:08:43.156785Z",
     "shell.execute_reply": "2022-12-01T09:08:43.155712Z"
    },
    "papermill": {
     "duration": 0.01538,
     "end_time": "2022-12-01T09:08:43.158955",
     "exception": false,
     "start_time": "2022-12-01T09:08:43.143575",
     "status": "completed"
    },
    "tags": []
   },
   "outputs": [],
   "source": [
    "####################### Checking Support vector Classifier for choosing the best model #############################\n",
    "# svc = SVC()\n",
    "# svc.fit(x_train,y_train)\n",
    "# f1_score(svc.predict(x_test) , y_test)"
   ]
  },
  {
   "cell_type": "code",
   "execution_count": 11,
   "id": "3bfefd57",
   "metadata": {
    "execution": {
     "iopub.execute_input": "2022-12-01T09:08:43.174553Z",
     "iopub.status.busy": "2022-12-01T09:08:43.174020Z",
     "iopub.status.idle": "2022-12-01T09:08:43.179106Z",
     "shell.execute_reply": "2022-12-01T09:08:43.177800Z"
    },
    "papermill": {
     "duration": 0.016184,
     "end_time": "2022-12-01T09:08:43.181662",
     "exception": false,
     "start_time": "2022-12-01T09:08:43.165478",
     "status": "completed"
    },
    "tags": []
   },
   "outputs": [],
   "source": [
    "####################### Checking K Nearest Neighbours for choosing the best model #############################\n",
    "# knc = KNeighborsClassifier()\n",
    "# knc.fit(x_train,y_train)\n",
    "# f1_score(knc.predict(x_test) , y_test)"
   ]
  },
  {
   "cell_type": "code",
   "execution_count": 12,
   "id": "d75447a1",
   "metadata": {
    "execution": {
     "iopub.execute_input": "2022-12-01T09:08:43.197142Z",
     "iopub.status.busy": "2022-12-01T09:08:43.196613Z",
     "iopub.status.idle": "2022-12-01T09:08:43.202142Z",
     "shell.execute_reply": "2022-12-01T09:08:43.200605Z"
    },
    "papermill": {
     "duration": 0.017025,
     "end_time": "2022-12-01T09:08:43.205268",
     "exception": false,
     "start_time": "2022-12-01T09:08:43.188243",
     "status": "completed"
    },
    "tags": []
   },
   "outputs": [],
   "source": [
    "# ####################### Checking XG Boost for choosing the best model #############################\n",
    "# d = XGBClassifier()\n",
    "# d.fit(x_train,y_train)\n",
    "# f1_score(d.predict(x_test) , y_test)"
   ]
  },
  {
   "cell_type": "code",
   "execution_count": 13,
   "id": "9ca3799a",
   "metadata": {
    "execution": {
     "iopub.execute_input": "2022-12-01T09:08:43.220459Z",
     "iopub.status.busy": "2022-12-01T09:08:43.219943Z",
     "iopub.status.idle": "2022-12-01T09:08:44.871266Z",
     "shell.execute_reply": "2022-12-01T09:08:44.869806Z"
    },
    "papermill": {
     "duration": 1.662626,
     "end_time": "2022-12-01T09:08:44.874500",
     "exception": false,
     "start_time": "2022-12-01T09:08:43.211874",
     "status": "completed"
    },
    "tags": []
   },
   "outputs": [
    {
     "name": "stderr",
     "output_type": "stream",
     "text": [
      "/opt/conda/lib/python3.7/site-packages/ipykernel_launcher.py:3: DataConversionWarning: A column-vector y was passed when a 1d array was expected. Please change the shape of y to (n_samples,), for example using ravel().\n",
      "  This is separate from the ipykernel package so we can avoid doing imports until\n"
     ]
    },
    {
     "data": {
      "text/plain": [
       "0.6956149732620321"
      ]
     },
     "execution_count": 13,
     "metadata": {},
     "output_type": "execute_result"
    }
   ],
   "source": [
    "####################### Checking Random Forest Classifier for choosing the best model #############################\n",
    "rff = RandomForestClassifier()\n",
    "rff.fit(x_train,y_train)\n",
    "f1_score(rff.predict(x_test) , y_test)"
   ]
  },
  {
   "cell_type": "code",
   "execution_count": 15,
   "id": "c711d479",
   "metadata": {
    "execution": {
     "iopub.execute_input": "2022-12-01T09:08:44.916700Z",
     "iopub.status.busy": "2022-12-01T09:08:44.916179Z",
     "iopub.status.idle": "2022-12-01T09:08:44.922350Z",
     "shell.execute_reply": "2022-12-01T09:08:44.920893Z"
    },
    "papermill": {
     "duration": 0.017266,
     "end_time": "2022-12-01T09:08:44.925098",
     "exception": false,
     "start_time": "2022-12-01T09:08:44.907832",
     "status": "completed"
    },
    "tags": []
   },
   "outputs": [],
   "source": [
    "########################## Using Grid Search for Hyper Parameter Tuning ###############################\n",
    "# param_grid = {\n",
    "#     'bootstrap': [True],\n",
    "#     'max_depth': [30,40,50],\n",
    "#     'max_features': [2, 3,4,5],\n",
    "#     'min_samples_leaf': [1,2,5,20],\n",
    "#     'min_samples_split': [2,3,5,20],\n",
    "#     'n_estimators': [100,80,50,90]\n",
    "# }\n",
    "# d.get_params()"
   ]
  },
  {
   "cell_type": "code",
   "execution_count": 17,
   "id": "030110b0",
   "metadata": {
    "execution": {
     "iopub.execute_input": "2022-12-01T09:08:44.967921Z",
     "iopub.status.busy": "2022-12-01T09:08:44.967426Z",
     "iopub.status.idle": "2022-12-01T09:08:44.974004Z",
     "shell.execute_reply": "2022-12-01T09:08:44.972510Z"
    },
    "papermill": {
     "duration": 0.019103,
     "end_time": "2022-12-01T09:08:44.976876",
     "exception": false,
     "start_time": "2022-12-01T09:08:44.957773",
     "status": "completed"
    },
    "tags": []
   },
   "outputs": [],
   "source": [
    "########################### Grid Search for Random Forest ################################\n",
    "# f1 = make_scorer(f1_score , average='macro')\n",
    "# rf= GridSearchCV(rff,param_grid,scoring= f1)\n",
    "# rf.fit(x_train,y_train)\n",
    "# rf.best_params_"
   ]
  },
  {
   "cell_type": "code",
   "execution_count": 18,
   "id": "02fd5238",
   "metadata": {
    "execution": {
     "iopub.execute_input": "2022-12-01T09:08:44.992638Z",
     "iopub.status.busy": "2022-12-01T09:08:44.992066Z",
     "iopub.status.idle": "2022-12-01T09:08:45.002569Z",
     "shell.execute_reply": "2022-12-01T09:08:45.000913Z"
    },
    "papermill": {
     "duration": 0.021861,
     "end_time": "2022-12-01T09:08:45.005576",
     "exception": false,
     "start_time": "2022-12-01T09:08:44.983715",
     "status": "completed"
    },
    "tags": []
   },
   "outputs": [],
   "source": [
    "########################## Training the RF ######################\n",
    "rff = RandomForestClassifier(criterion = 'gini',\n",
    " max_depth = 40,\n",
    " max_features = 5,\n",
    "min_samples_leaf = 1,\n",
    "min_samples_split = 2,\n",
    " n_estimators =  80,random_state=42)"
   ]
  },
  {
   "cell_type": "code",
   "execution_count": 19,
   "id": "63653fcb",
   "metadata": {
    "execution": {
     "iopub.execute_input": "2022-12-01T09:08:45.023007Z",
     "iopub.status.busy": "2022-12-01T09:08:45.022468Z",
     "iopub.status.idle": "2022-12-01T09:08:46.323526Z",
     "shell.execute_reply": "2022-12-01T09:08:46.321722Z"
    },
    "papermill": {
     "duration": 1.313909,
     "end_time": "2022-12-01T09:08:46.326502",
     "exception": false,
     "start_time": "2022-12-01T09:08:45.012593",
     "status": "completed"
    },
    "tags": []
   },
   "outputs": [
    {
     "name": "stderr",
     "output_type": "stream",
     "text": [
      "/opt/conda/lib/python3.7/site-packages/ipykernel_launcher.py:1: DataConversionWarning: A column-vector y was passed when a 1d array was expected. Please change the shape of y to (n_samples,), for example using ravel().\n",
      "  \"\"\"Entry point for launching an IPython kernel.\n"
     ]
    },
    {
     "data": {
      "text/plain": [
       "0.6976344086021505"
      ]
     },
     "execution_count": 19,
     "metadata": {},
     "output_type": "execute_result"
    }
   ],
   "source": [
    "#################################### Testing for F1 Score ##############################3\n",
    "rff.fit(x_train,y_train)\n",
    "f1_score(rff.predict(x_test) , y_test)\n"
   ]
  },
  {
   "cell_type": "code",
   "execution_count": 20,
   "id": "e095fd5c",
   "metadata": {
    "execution": {
     "iopub.execute_input": "2022-12-01T09:08:46.343279Z",
     "iopub.status.busy": "2022-12-01T09:08:46.342073Z",
     "iopub.status.idle": "2022-12-01T09:08:46.790720Z",
     "shell.execute_reply": "2022-12-01T09:08:46.789176Z"
    },
    "papermill": {
     "duration": 0.460585,
     "end_time": "2022-12-01T09:08:46.794115",
     "exception": false,
     "start_time": "2022-12-01T09:08:46.333530",
     "status": "completed"
    },
    "tags": []
   },
   "outputs": [],
   "source": [
    "################################### Predicting for test data set and submitting ############################\n",
    "test = preprocessing(test,'test')\n",
    "df = pd.DataFrame(rff.predict(test),columns=['Offer Accepted'])\n",
    "df=df.reset_index()\n",
    "df.rename(columns={'index':'id'},inplace=True)\n",
    "df['Offer Accepted'] = np.where(df['Offer Accepted'] == 1 ,'Yes','No')\n",
    "df.to_csv('/kaggle/working/submission.csv',index=False)"
   ]
  }
 ],
 "metadata": {
  "kernelspec": {
   "display_name": "Python 3",
   "language": "python",
   "name": "python3"
  },
  "language_info": {
   "codemirror_mode": {
    "name": "ipython",
    "version": 3
   },
   "file_extension": ".py",
   "mimetype": "text/x-python",
   "name": "python",
   "nbconvert_exporter": "python",
   "pygments_lexer": "ipython3",
   "version": "3.7.12"
  },
  "papermill": {
   "default_parameters": {},
   "duration": 19.112526,
   "end_time": "2022-12-01T09:08:47.931783",
   "environment_variables": {},
   "exception": null,
   "input_path": "__notebook__.ipynb",
   "output_path": "__notebook__.ipynb",
   "parameters": {},
   "start_time": "2022-12-01T09:08:28.819257",
   "version": "2.3.4"
  }
 },
 "nbformat": 4,
 "nbformat_minor": 5
}
